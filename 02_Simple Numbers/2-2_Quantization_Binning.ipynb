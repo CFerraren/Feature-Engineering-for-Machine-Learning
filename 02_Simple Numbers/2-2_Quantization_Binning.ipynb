{
 "cells": [
  {
   "cell_type": "markdown",
   "metadata": {},
   "source": [
    "# Yelp Data Challenge\n",
    "\n",
    "> the Yelp contains user reviews of businesses from 10 cities across North America and Europe.\n",
    "Each business is labeled with zero or more categories.\n",
    "\n",
    "\n",
    "### For this data and create a much smaller classification dataset.\n",
    "\n"
   ]
  },
  {
   "cell_type": "markdown",
   "metadata": {},
   "source": [
    "````Our task is to use collaborative filtering to predict the rating a user might give to a business````\n",
    "\n",
    "---"
   ]
  },
  {
   "cell_type": "markdown",
   "metadata": {},
   "source": [
    "> Raw counts that span several orders of magnitude are problematic for many models like linear models. \n",
    "\n",
    "> Large counts could also wreak havoc in unsupervised learning methods such as k-means clustering which uses Euclidean distance as a similarity function to measure similarity between data points.\n",
    "---\n",
    "\n",
    "**One Solution is to contain the scale by quantizing the count.**\n",
    "\n",
    "\n",
    "**Quantization** - ````maps a continuous number to a discrete one. We can think of the discretized numbers as an ordered sequence of bins that represent a measure of intensity.````\n",
    "\n",
    "---"
   ]
  },
  {
   "cell_type": "code",
   "execution_count": 1,
   "metadata": {},
   "outputs": [],
   "source": [
    "# Import Library\n",
    "import pandas as pd\n",
    "import json\n"
   ]
  },
  {
   "cell_type": "code",
   "execution_count": 2,
   "metadata": {},
   "outputs": [],
   "source": [
    "# Load business data \n",
    "\n",
    "biz_data = open('../data/yelp_dataset/yelp_academic_dataset_business.json', \n",
    "                        encoding='utf-8')"
   ]
  },
  {
   "cell_type": "code",
   "execution_count": 3,
   "metadata": {},
   "outputs": [],
   "source": [
    "# create a pandas dataframe of the data\n",
    "\n",
    "bizdf = pd.DataFrame([json.loads(x) for x in biz_data.readlines()])\n",
    "biz_data.close()"
   ]
  },
  {
   "cell_type": "code",
   "execution_count": 4,
   "metadata": {},
   "outputs": [
    {
     "data": {
      "text/html": [
       "<div>\n",
       "<style scoped>\n",
       "    .dataframe tbody tr th:only-of-type {\n",
       "        vertical-align: middle;\n",
       "    }\n",
       "\n",
       "    .dataframe tbody tr th {\n",
       "        vertical-align: top;\n",
       "    }\n",
       "\n",
       "    .dataframe thead th {\n",
       "        text-align: right;\n",
       "    }\n",
       "</style>\n",
       "<table border=\"1\" class=\"dataframe\">\n",
       "  <thead>\n",
       "    <tr style=\"text-align: right;\">\n",
       "      <th></th>\n",
       "      <th>0</th>\n",
       "      <th>1</th>\n",
       "      <th>2</th>\n",
       "    </tr>\n",
       "  </thead>\n",
       "  <tbody>\n",
       "    <tr>\n",
       "      <th>address</th>\n",
       "      <td>1314 44 Avenue NE</td>\n",
       "      <td></td>\n",
       "      <td>1335 rue Beaubien E</td>\n",
       "    </tr>\n",
       "    <tr>\n",
       "      <th>attributes</th>\n",
       "      <td>{'BikeParking': 'False', 'BusinessAcceptsCredi...</td>\n",
       "      <td>{'Alcohol': 'none', 'BikeParking': 'False', 'B...</td>\n",
       "      <td>{'Alcohol': 'beer_and_wine', 'Ambience': '{'ro...</td>\n",
       "    </tr>\n",
       "    <tr>\n",
       "      <th>business_id</th>\n",
       "      <td>Apn5Q_b6Nz61Tq4XzPdf9A</td>\n",
       "      <td>AjEbIBw6ZFfln7ePHha9PA</td>\n",
       "      <td>O8S5hYJ1SMc8fA4QBtVujA</td>\n",
       "    </tr>\n",
       "    <tr>\n",
       "      <th>categories</th>\n",
       "      <td>Tours, Breweries, Pizza, Restaurants, Food, Ho...</td>\n",
       "      <td>Chicken Wings, Burgers, Caterers, Street Vendo...</td>\n",
       "      <td>Breakfast &amp; Brunch, Restaurants, French, Sandw...</td>\n",
       "    </tr>\n",
       "    <tr>\n",
       "      <th>city</th>\n",
       "      <td>Calgary</td>\n",
       "      <td>Henderson</td>\n",
       "      <td>Montréal</td>\n",
       "    </tr>\n",
       "    <tr>\n",
       "      <th>hours</th>\n",
       "      <td>{'Monday': '8:30-17:0', 'Tuesday': '11:0-21:0'...</td>\n",
       "      <td>{'Friday': '17:0-23:0', 'Saturday': '17:0-23:0...</td>\n",
       "      <td>{'Monday': '10:0-22:0', 'Tuesday': '10:0-22:0'...</td>\n",
       "    </tr>\n",
       "    <tr>\n",
       "      <th>is_open</th>\n",
       "      <td>1</td>\n",
       "      <td>0</td>\n",
       "      <td>0</td>\n",
       "    </tr>\n",
       "    <tr>\n",
       "      <th>latitude</th>\n",
       "      <td>51.0918</td>\n",
       "      <td>35.9607</td>\n",
       "      <td>45.5405</td>\n",
       "    </tr>\n",
       "    <tr>\n",
       "      <th>longitude</th>\n",
       "      <td>-114.032</td>\n",
       "      <td>-114.94</td>\n",
       "      <td>-73.5993</td>\n",
       "    </tr>\n",
       "    <tr>\n",
       "      <th>name</th>\n",
       "      <td>Minhas Micro Brewery</td>\n",
       "      <td>CK'S BBQ &amp; Catering</td>\n",
       "      <td>La Bastringue</td>\n",
       "    </tr>\n",
       "    <tr>\n",
       "      <th>neighborhood</th>\n",
       "      <td></td>\n",
       "      <td></td>\n",
       "      <td>Rosemont-La Petite-Patrie</td>\n",
       "    </tr>\n",
       "    <tr>\n",
       "      <th>postal_code</th>\n",
       "      <td>T2E 6L6</td>\n",
       "      <td>89002</td>\n",
       "      <td>H2G 1K7</td>\n",
       "    </tr>\n",
       "    <tr>\n",
       "      <th>review_count</th>\n",
       "      <td>24</td>\n",
       "      <td>3</td>\n",
       "      <td>5</td>\n",
       "    </tr>\n",
       "    <tr>\n",
       "      <th>stars</th>\n",
       "      <td>4</td>\n",
       "      <td>4.5</td>\n",
       "      <td>4</td>\n",
       "    </tr>\n",
       "    <tr>\n",
       "      <th>state</th>\n",
       "      <td>AB</td>\n",
       "      <td>NV</td>\n",
       "      <td>QC</td>\n",
       "    </tr>\n",
       "  </tbody>\n",
       "</table>\n",
       "</div>"
      ],
      "text/plain": [
       "                                                              0  \\\n",
       "address                                       1314 44 Avenue NE   \n",
       "attributes    {'BikeParking': 'False', 'BusinessAcceptsCredi...   \n",
       "business_id                              Apn5Q_b6Nz61Tq4XzPdf9A   \n",
       "categories    Tours, Breweries, Pizza, Restaurants, Food, Ho...   \n",
       "city                                                    Calgary   \n",
       "hours         {'Monday': '8:30-17:0', 'Tuesday': '11:0-21:0'...   \n",
       "is_open                                                       1   \n",
       "latitude                                                51.0918   \n",
       "longitude                                              -114.032   \n",
       "name                                       Minhas Micro Brewery   \n",
       "neighborhood                                                      \n",
       "postal_code                                             T2E 6L6   \n",
       "review_count                                                 24   \n",
       "stars                                                         4   \n",
       "state                                                        AB   \n",
       "\n",
       "                                                              1  \\\n",
       "address                                                           \n",
       "attributes    {'Alcohol': 'none', 'BikeParking': 'False', 'B...   \n",
       "business_id                              AjEbIBw6ZFfln7ePHha9PA   \n",
       "categories    Chicken Wings, Burgers, Caterers, Street Vendo...   \n",
       "city                                                  Henderson   \n",
       "hours         {'Friday': '17:0-23:0', 'Saturday': '17:0-23:0...   \n",
       "is_open                                                       0   \n",
       "latitude                                                35.9607   \n",
       "longitude                                               -114.94   \n",
       "name                                        CK'S BBQ & Catering   \n",
       "neighborhood                                                      \n",
       "postal_code                                               89002   \n",
       "review_count                                                  3   \n",
       "stars                                                       4.5   \n",
       "state                                                        NV   \n",
       "\n",
       "                                                              2  \n",
       "address                                     1335 rue Beaubien E  \n",
       "attributes    {'Alcohol': 'beer_and_wine', 'Ambience': '{'ro...  \n",
       "business_id                              O8S5hYJ1SMc8fA4QBtVujA  \n",
       "categories    Breakfast & Brunch, Restaurants, French, Sandw...  \n",
       "city                                                   Montréal  \n",
       "hours         {'Monday': '10:0-22:0', 'Tuesday': '10:0-22:0'...  \n",
       "is_open                                                       0  \n",
       "latitude                                                45.5405  \n",
       "longitude                                              -73.5993  \n",
       "name                                              La Bastringue  \n",
       "neighborhood                          Rosemont-La Petite-Patrie  \n",
       "postal_code                                             H2G 1K7  \n",
       "review_count                                                  5  \n",
       "stars                                                         4  \n",
       "state                                                        QC  "
      ]
     },
     "execution_count": 4,
     "metadata": {},
     "output_type": "execute_result"
    }
   ],
   "source": [
    "bizdf[:3].T"
   ]
  },
  {
   "cell_type": "code",
   "execution_count": 5,
   "metadata": {},
   "outputs": [],
   "source": [
    "import matplotlib.pyplot as plt\n",
    "import seaborn as sns"
   ]
  },
  {
   "cell_type": "code",
   "execution_count": 6,
   "metadata": {},
   "outputs": [
    {
     "data": {
      "text/plain": [
       "Text(0,0.5,'Occurrence')"
      ]
     },
     "execution_count": 6,
     "metadata": {},
     "output_type": "execute_result"
    },
    {
     "data": {
      "image/png": "[encoded data removed]",
      "text/plain": [
       "<Figure size 432x288 with 1 Axes>"
      ]
     },
     "metadata": {},
     "output_type": "display_data"
    }
   ],
   "source": [
    "# Plot the histogram of the review counts\n",
    "\n",
    "sns.set_style('whitegrid')\n",
    "fig, ax = plt.subplots()\n",
    "bizdf['review_count'].hist(ax=ax, bins=100)\n",
    "ax.set_yscale('log')\n",
    "ax.tick_params(labelsize=14)\n",
    "ax.set_xlabel('Review Count', fontsize=14)\n",
    "ax.set_ylabel('Occurrence', fontsize=14)"
   ]
  },
  {
   "cell_type": "code",
   "execution_count": null,
   "metadata": {},
   "outputs": [],
   "source": []
  }
 ],
 "metadata": {
  "kernelspec": {
   "display_name": "Python 3",
   "language": "python",
   "name": "python3"
  },
  "language_info": {
   "codemirror_mode": {
    "name": "ipython",
    "version": 3
   },
   "file_extension": ".py",
   "mimetype": "text/x-python",
   "name": "python",
   "nbconvert_exporter": "python",
   "pygments_lexer": "ipython3",
   "version": "3.6.5"
  }
 },
 "nbformat": 4,
 "nbformat_minor": 2
}
